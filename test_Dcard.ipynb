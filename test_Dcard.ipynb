{
 "cells": [
  {
   "cell_type": "code",
   "execution_count": 5,
   "metadata": {},
   "outputs": [],
   "source": [
    "import requests\n",
    "from bs4 import BeautifulSoup\n",
    "import json\n",
    "test = open(\"spider/pet/test.txt\",\"w\",encoding='UTF-8')\n",
    "\n",
    "p = requests.Session()\n",
    "url=requests.get(\"https://www.dcard.tw/f/pet\")\n",
    "soup = BeautifulSoup(url.text,\"html.parser\")\n"
   ]
  },
  {
   "cell_type": "code",
   "execution_count": 20,
   "metadata": {},
   "outputs": [],
   "source": [
    "sel = soup.select(\"link\")"
   ]
  },
  {
   "cell_type": "code",
   "execution_count": 22,
   "metadata": {},
   "outputs": [
    {
     "data": {
      "text/plain": [
       "'https://www.dcard.twhttps://fonts.googleapis.com'"
      ]
     },
     "execution_count": 22,
     "metadata": {},
     "output_type": "execute_result"
    }
   ],
   "source": [
    "a=[]\n",
    "for s in sel:\n",
    "    a.append(s[\"href\"])\n",
    "url = \"https://www.dcard.tw\"+ a[2]\n",
    "url"
   ]
  },
  {
   "cell_type": "code",
   "execution_count": 4,
   "metadata": {},
   "outputs": [
    {
     "ename": "IndexError",
     "evalue": "list index out of range",
     "output_type": "error",
     "traceback": [
      "\u001b[0;31m---------------------------------------------------------------------------\u001b[0m",
      "\u001b[0;31mIndexError\u001b[0m                                Traceback (most recent call last)",
      "\u001b[0;32m<ipython-input-4-b3699836d876>\u001b[0m in \u001b[0;36m<module>\u001b[0;34m\u001b[0m\n\u001b[1;32m     14\u001b[0m \u001b[0;32mfor\u001b[0m \u001b[0ms\u001b[0m \u001b[0;32min\u001b[0m \u001b[0msel\u001b[0m\u001b[0;34m:\u001b[0m\u001b[0;34m\u001b[0m\u001b[0;34m\u001b[0m\u001b[0m\n\u001b[1;32m     15\u001b[0m     \u001b[0ma\u001b[0m\u001b[0;34m.\u001b[0m\u001b[0mappend\u001b[0m\u001b[0;34m(\u001b[0m\u001b[0ms\u001b[0m\u001b[0;34m[\u001b[0m\u001b[0;34m\"href\"\u001b[0m\u001b[0;34m]\u001b[0m\u001b[0;34m)\u001b[0m\u001b[0;34m\u001b[0m\u001b[0;34m\u001b[0m\u001b[0m\n\u001b[0;32m---> 16\u001b[0;31m \u001b[0murl\u001b[0m \u001b[0;34m=\u001b[0m \u001b[0;34m\"https://www.dcard.tw\"\u001b[0m\u001b[0;34m+\u001b[0m \u001b[0ma\u001b[0m\u001b[0;34m[\u001b[0m\u001b[0;36m2\u001b[0m\u001b[0;34m]\u001b[0m\u001b[0;34m\u001b[0m\u001b[0;34m\u001b[0m\u001b[0m\n\u001b[0m\u001b[1;32m     17\u001b[0m \u001b[0;34m\u001b[0m\u001b[0m\n\u001b[1;32m     18\u001b[0m \u001b[0;32mfor\u001b[0m \u001b[0mk\u001b[0m \u001b[0;32min\u001b[0m \u001b[0mrange\u001b[0m\u001b[0;34m(\u001b[0m\u001b[0;36m0\u001b[0m\u001b[0;34m,\u001b[0m\u001b[0;36m10\u001b[0m\u001b[0;34m)\u001b[0m\u001b[0;34m:\u001b[0m\u001b[0;34m\u001b[0m\u001b[0;34m\u001b[0m\u001b[0m\n",
      "\u001b[0;31mIndexError\u001b[0m: list index out of range"
     ]
    }
   ],
   "source": [
    "#藉由首頁取得所有文章的URL\n",
    "import requests\n",
    "from bs4 import BeautifulSoup\n",
    "import json\n",
    "\n",
    "test = open(\"spider/pet/test.txt\",\"w\",encoding='UTF-8')\n",
    "\n",
    "\n",
    "p = requests.Session()\n",
    "url=requests.get(\"https://www.dcard.tw/f/pet\")\n",
    "soup = BeautifulSoup(url.text,\"html.parser\")\n",
    "sel = soup.select(\"div.PostList_wrapper_2BLUM a.PostEntry_root_V6g0r\")\n",
    "a=[]\n",
    "for s in sel:\n",
    "    a.append(s[\"href\"])\n",
    "url = \"https://www.dcard.tw\"+ a[2]\n",
    "\n",
    "for k in range(0,10):\n",
    "        post_data={\n",
    "            \"before\":a[-1][9:18],\n",
    "            \"limit\":\"30\",\n",
    "            \"popular\":\"true\"\n",
    "        }\n",
    "        r = p.get(\"https://www.dcard.tw/_api/forums/pet/posts\",params=post_data, headers = { \"Referer\": \"https://www.dcard.tw/\", \"User-Agent\": \"Mozilla/5.0\" })\n",
    "        data2 = json.loads(r.text)\n",
    "        for u in range(len(data2)):\n",
    "            Temporary_url = \"/f/pet/p/\"+ str(data2[u][\"id\"]) + \"-\" + str(data2[u][\"title\"].replace(\" \",\"-\"))\n",
    "            a.append(Temporary_url)\n",
    "j=0 #為了印頁數\n",
    "q=0 #為了印張數\n",
    "for i in a[2:]:\n",
    "    url = \"https://www.dcard.tw\"+i\n",
    "    j+=1\n",
    "    print (\"第\",j,\"頁的URL為:\"+url)\n",
    "    #file.write(\"temperature is {} wet is {}%\\n\".format(temperature, humidity))\n",
    "    test.write(\"第 {} 頁的URL為: {} \\n\".format(j,url))\n",
    "    url=requests.get(url)\n",
    "    soup = BeautifulSoup(url.text,\"html.parser\")\n",
    "    sel_jpg = soup.select(\"div.Post_content_NKEl9 div div div img.GalleryImage_image_3lGzO\")\n",
    "    for c in sel_jpg:\n",
    "        q+=1\n",
    "        print(\"第\",q,\"張:\",c[\"src\"])\n",
    "        test.write(\"%\\n\"\"第 {} 張: {} \\n\".format(q,c[\"src\"])) \n",
    "        pic=requests.get(c[\"src\"])\n",
    "        img2 = pic.content\n",
    "        pic_out = open(\"spider/pet/\"+str(q)+\".png\",'wb')\n",
    "        pic_out.write(img2)\n",
    "        pic_out.close()\n",
    "\n",
    "test.close()\n",
    "print(\"爬蟲結束\")"
   ]
  },
  {
   "cell_type": "code",
   "execution_count": 23,
   "metadata": {},
   "outputs": [],
   "source": [
    "import requests\n",
    "from bs4 import BeautifulSoup\n",
    "import re\n",
    "import os\n",
    "\n",
    "def main():\n",
    "    dcard_topic_page = 'https://www.dcard.tw/f'\n",
    "    resp = requests.get(dcard_topic_page)\n",
    "    soup = BeautifulSoup(resp.text, 'html.parser')\n",
    "\n",
    "    # ^ means \"start with\"\n",
    "    topic_entry_pattern = '^PostEntry_container_'\n",
    "    topic_title_pattern = 'strong'\n",
    "    find_top10_hot_topic_title(soup, topic_entry_pattern, topic_title_pattern)\n",
    "\n",
    "\n",
    "def find_top10_hot_topic_title(soup, topic_entry_pattern, topic_title_pattern):\n",
    "    top_ten_topic = soup.find_all('div', {'class': re.compile(topic_entry_pattern)})\n",
    "    i = 1\n",
    "    for topic in top_ten_topic[:10]:\n",
    "        print(str(i) + ': ' + topic.find(topic_title_pattern).text)\n",
    "        i += 1\n",
    "\n",
    "\n",
    "if __name__ == '__main__':\n",
    "    main()"
   ]
  },
  {
   "cell_type": "code",
   "execution_count": null,
   "metadata": {},
   "outputs": [],
   "source": []
  }
 ],
 "metadata": {
  "kernelspec": {
   "display_name": "Python 3",
   "language": "python",
   "name": "python3"
  },
  "language_info": {
   "codemirror_mode": {
    "name": "ipython",
    "version": 3
   },
   "file_extension": ".py",
   "mimetype": "text/x-python",
   "name": "python",
   "nbconvert_exporter": "python",
   "pygments_lexer": "ipython3",
   "version": "3.7.6"
  }
 },
 "nbformat": 4,
 "nbformat_minor": 4
}
